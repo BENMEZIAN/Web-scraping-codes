{
 "cells": [
  {
   "cell_type": "code",
   "execution_count": 8,
   "id": "b506617b",
   "metadata": {},
   "outputs": [
    {
     "name": "stdout",
     "output_type": "stream",
     "text": [
      "File: chromedriver.exe\n",
      "File: LICENSE.chromedriver\n",
      "File: THIRD_PARTY_NOTICES.chromedriver\n"
     ]
    }
   ],
   "source": [
    "import os\n",
    "# Specify the directory you want to list\n",
    "directory_path = r\"C:\\chromedriver\"  # Adjust to your desired path\n",
    "\n",
    "# List all files and directories in the given directory\n",
    "files_and_dirs = os.listdir(directory_path)\n",
    "\n",
    "# Loop through and print each item\n",
    "for item in files_and_dirs:\n",
    "    item_path = os.path.join(directory_path, item)\n",
    "    \n",
    "    if os.path.isfile(item_path):\n",
    "        print(f\"File: {item}\")\n",
    "    elif os.path.isdir(item_path):\n",
    "        print(f\"Directory: {item}\")"
   ]
  },
  {
   "cell_type": "code",
   "execution_count": 9,
   "id": "63a05c07",
   "metadata": {},
   "outputs": [
    {
     "name": "stdout",
     "output_type": "stream",
     "text": [
      "Found ChromeDriver at C:\\\\chromedriver\\\\chromedriver.exe\n"
     ]
    }
   ],
   "source": [
    "import time\n",
    "from selenium import webdriver\n",
    "from selenium.webdriver.chrome.service import Service\n",
    "from selenium.webdriver.chrome.options import Options\n",
    "import os\n",
    "\n",
    "# Path to your chromedriver.exe\n",
    "chrome_driver_path = r\"C:\\chromedriver\\chromedriver.exe\"\n",
    "\n",
    "# Check if the chromedriver path exists\n",
    "if not os.path.exists(chrome_driver_path):\n",
    "    print(f\"ChromeDriver file not found at {chrome_driver_path}\")\n",
    "else:\n",
    "    print(f\"Found ChromeDriver at {chrome_driver_path}\")\n"
   ]
  },
  {
   "cell_type": "code",
   "execution_count": 50,
   "id": "a0223b1b",
   "metadata": {},
   "outputs": [
    {
     "name": "stdout",
     "output_type": "stream",
     "text": [
      "Button type :  submit\n",
      "Button text :  Vacatures zoeken\n"
     ]
    }
   ],
   "source": [
    "from selenium import webdriver\n",
    "from selenium.webdriver.chrome.options import Options\n",
    "from selenium.webdriver.common.by import By\n",
    "from bs4 import BeautifulSoup\n",
    "import pandas as pd\n",
    "\n",
    "# Initialize Chrome with the specified options\n",
    "driver = webdriver.Chrome()\n",
    "\n",
    "# Navigate to the Nintendo website\n",
    "driver.get(\"https://nl.indeed.com/?from=gnav-homepage\")\n",
    "\n",
    "time.sleep(5)\n",
    "\n",
    "# Output the page source to the console\n",
    "#print(driver.page_source)\n",
    "soup = BeautifulSoup(driver.page_source,\"html.parser\")\n",
    "#print(soup.prettify())\n",
    "\n",
    "# Start scraping\n",
    "button = driver.find_element(By.CLASS_NAME, \"yosegi-InlineWhatWhere-primaryButton\")\n",
    "\n",
    "button_type = button.get_attribute(\"type\")\n",
    "button_text = button.text\n",
    "\n",
    "print(\"Button type : \",button_type)\n",
    "print(\"Button text : \",button_text)\n",
    "\n",
    "# Close the browser session cleanly to free up system resources\n",
    "driver.quit()"
   ]
  },
  {
   "cell_type": "code",
   "execution_count": null,
   "id": "80d328a2",
   "metadata": {},
   "outputs": [],
   "source": []
  }
 ],
 "metadata": {
  "kernelspec": {
   "display_name": "Python 3 (ipykernel)",
   "language": "python",
   "name": "python3"
  },
  "language_info": {
   "codemirror_mode": {
    "name": "ipython",
    "version": 3
   },
   "file_extension": ".py",
   "mimetype": "text/x-python",
   "name": "python",
   "nbconvert_exporter": "python",
   "pygments_lexer": "ipython3",
   "version": "3.9.13"
  }
 },
 "nbformat": 4,
 "nbformat_minor": 5
}
