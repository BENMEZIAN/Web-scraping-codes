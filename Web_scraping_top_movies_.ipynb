{
  "nbformat": 4,
  "nbformat_minor": 0,
  "metadata": {
    "colab": {
      "provenance": []
    },
    "kernelspec": {
      "name": "python3",
      "display_name": "Python 3"
    },
    "language_info": {
      "name": "python"
    }
  },
  "cells": [
    {
      "cell_type": "markdown",
      "source": [
        "**Import required modules**"
      ],
      "metadata": {
        "id": "RTV9aM2z2VPQ"
      }
    },
    {
      "cell_type": "code",
      "execution_count": null,
      "metadata": {
        "id": "QDmHgmKopoCJ"
      },
      "outputs": [],
      "source": [
        "from bs4 import BeautifulSoup\n",
        "import requests\n",
        "import pandas as pd"
      ]
    },
    {
      "cell_type": "markdown",
      "source": [
        "**Resquest page from URL**"
      ],
      "metadata": {
        "id": "LcHXaPwS2seB"
      }
    },
    {
      "cell_type": "code",
      "source": [
        "url = \"https://www.imdb.com/chart/top/\"\n",
        "headers = {\n",
        "    'User-Agent': 'Mozilla/5.0 (Windows NT 10.0; Win64; x64) AppleWebKit/537.36 (KHTML, like Gecko) Chrome/58.0.3029.110 Safari/537.36'\n",
        "}\n",
        "page = requests.get(url,headers=headers)\n",
        "page"
      ],
      "metadata": {
        "id": "mom1dHba214i"
      },
      "execution_count": null,
      "outputs": []
    },
    {
      "cell_type": "markdown",
      "source": [
        "**Display the source code of the page**"
      ],
      "metadata": {
        "id": "Tk2pfunS5pCP"
      }
    },
    {
      "cell_type": "code",
      "source": [
        "print(page.content)"
      ],
      "metadata": {
        "id": "SALwG6z25yB-",
        "collapsed": true
      },
      "execution_count": null,
      "outputs": []
    },
    {
      "cell_type": "code",
      "source": [
        "# parse it to html format with BeautifulSoup\n",
        "soup = BeautifulSoup(page.content, \"html.parser\")\n",
        "print(soup.prettify())"
      ],
      "metadata": {
        "id": "TX_8RUk76J0A",
        "collapsed": true
      },
      "execution_count": null,
      "outputs": []
    },
    {
      "cell_type": "markdown",
      "source": [
        "**Scrape data**"
      ],
      "metadata": {
        "id": "2Bs437meQgD_"
      }
    },
    {
      "cell_type": "code",
      "source": [
        "movies_list = soup.find('ul',class_='ipc-metadata-list')\n",
        "movies = movies_list.find_all('li',class_='ipc-metadata-list-summary-item')\n",
        "\n",
        "movies_titles = []\n",
        "movies_ratings = []\n",
        "\n",
        "for movie in movies:\n",
        "    movie_title = movie.find('h3',class_='ipc-title__text').text.strip()\n",
        "    movie_rating = float(movie.find('span',class_='ipc-rating-star').text.replace(\"\\xa0\", \" \").split('(')[0].strip())\n",
        "\n",
        "    movies_titles.append(movie_title)\n",
        "    movies_ratings.append(movie_rating)\n",
        "\n",
        "print(movies_titles)\n",
        "print(movies_ratings)"
      ],
      "metadata": {
        "id": "8yyISM7j7KXc"
      },
      "execution_count": null,
      "outputs": []
    },
    {
      "cell_type": "markdown",
      "source": [
        "**Save extracted data into csv file**"
      ],
      "metadata": {
        "id": "qapHOj-DI0aN"
      }
    },
    {
      "cell_type": "code",
      "source": [
        "data = pd.DataFrame()\n",
        "data['Movie Names'] = movies_titles\n",
        "data['Ratings'] = movies_ratings\n",
        "data.head()"
      ],
      "metadata": {
        "id": "v0pk4Y7DJhgg"
      },
      "execution_count": null,
      "outputs": []
    },
    {
      "cell_type": "code",
      "source": [
        "data.to_csv('IMDB Top Movies.csv', index=False)"
      ],
      "metadata": {
        "id": "nX12UdcPKBZK"
      },
      "execution_count": null,
      "outputs": []
    }
  ]
}