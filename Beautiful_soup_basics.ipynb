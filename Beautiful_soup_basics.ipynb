{
  "nbformat": 4,
  "nbformat_minor": 0,
  "metadata": {
    "colab": {
      "provenance": [],
      "authorship_tag": "ABX9TyMcCXi9Y6wOAg84AEFCDWXA",
      "include_colab_link": true
    },
    "kernelspec": {
      "name": "python3",
      "display_name": "Python 3"
    },
    "language_info": {
      "name": "python"
    }
  },
  "cells": [
    {
      "cell_type": "markdown",
      "metadata": {
        "id": "view-in-github",
        "colab_type": "text"
      },
      "source": [
        "<a href=\"https://colab.research.google.com/github/BENMEZIAN/Web-scraping-codes/blob/main/Beautiful_soup_basics.ipynb\" target=\"_parent\"><img src=\"https://colab.research.google.com/assets/colab-badge.svg\" alt=\"Open In Colab\"/></a>"
      ]
    },
    {
      "cell_type": "markdown",
      "source": [
        "**Import required modules**"
      ],
      "metadata": {
        "id": "mdknMjHmF1Aq"
      }
    },
    {
      "cell_type": "code",
      "execution_count": 156,
      "metadata": {
        "id": "9anXvDgjDbxl"
      },
      "outputs": [],
      "source": [
        "from bs4 import BeautifulSoup as bs\n",
        "import requests\n",
        "import pandas as pd"
      ]
    },
    {
      "cell_type": "markdown",
      "source": [
        "**Grab html source code of the page**"
      ],
      "metadata": {
        "id": "8ypg7qlPG5ei"
      }
    },
    {
      "cell_type": "code",
      "source": [
        "url = \"https://www.aptronixindia.com/?srsltid=AfmBOorlMjmhxj-jBPKSVTxlS6CltWuT9BU7lLF6Gvyk2YtPv97oAHv7\"\n",
        "page = requests.get(url)\n",
        "print(page.status_code)"
      ],
      "metadata": {
        "colab": {
          "base_uri": "https://localhost:8080/"
        },
        "id": "DwpgxKTUE1dO",
        "outputId": "fdb22a67-71c8-401f-b9dc-16eac857a451"
      },
      "execution_count": 6,
      "outputs": [
        {
          "output_type": "stream",
          "name": "stdout",
          "text": [
            "200\n"
          ]
        }
      ]
    },
    {
      "cell_type": "code",
      "source": [
        "print(page.content)"
      ],
      "metadata": {
        "collapsed": true,
        "id": "CWglQPttFkak"
      },
      "execution_count": null,
      "outputs": []
    },
    {
      "cell_type": "markdown",
      "source": [
        "**Parse source code into html**"
      ],
      "metadata": {
        "id": "eQtfR0biHFmN"
      }
    },
    {
      "cell_type": "code",
      "source": [
        "soup = bs(page.content,'html.parser')\n",
        "print(soup.prettify())"
      ],
      "metadata": {
        "collapsed": true,
        "id": "Sa985bVsFvul"
      },
      "execution_count": null,
      "outputs": []
    },
    {
      "cell_type": "markdown",
      "source": [
        "**Scrape specified data**"
      ],
      "metadata": {
        "id": "7EHECZXiHeL5"
      }
    },
    {
      "cell_type": "markdown",
      "source": [
        "*Scrape navigation bar elements*"
      ],
      "metadata": {
        "id": "1EBOMaXfXKFw"
      }
    },
    {
      "cell_type": "code",
      "source": [
        "menu_navigation = soup.find(\"div\",class_=\"navigation custommenu main-nav\")\n",
        "items_navigation = menu_navigation.find(\"ul\")\n",
        "\n",
        "items = []\n",
        "\n",
        "parent_item = items_navigation.find(\"li\",class_=\"ui-menu-item level0 classic parent\").find(\"a\",class_=\"level-top\").text\n",
        "items.append(parent_item)\n",
        "\n",
        "middle_items = items_navigation.find_all(\"li\",class_=\"ui-menu-item level0 classic\")\n",
        "for item in middle_items:\n",
        "  item = item.find(\"a\",class_=\"level-top\").get_text() # or .text\n",
        "  item = item.strip()\n",
        "  items.append(item)\n",
        "\n",
        "business_item = items_navigation.find(\"li\",class_=\"ui-menu-item level0 classic business\").find(\"a\",class_=\"level-top\").text\n",
        "items.append(business_item)\n",
        "\n",
        "print(items)\n"
      ],
      "metadata": {
        "colab": {
          "base_uri": "https://localhost:8080/"
        },
        "id": "nW3AX_ReHlCG",
        "outputId": "e36e9ac3-58ab-462c-b432-50d076a6a36c"
      },
      "execution_count": 77,
      "outputs": [
        {
          "output_type": "stream",
          "name": "stdout",
          "text": [
            "['Shop', 'Loyalty', 'Service', 'Training', 'Events', 'Stores', 'Contact Us', 'Account', 'Business Solutions']\n"
          ]
        }
      ]
    },
    {
      "cell_type": "markdown",
      "source": [
        "*Scrape footer links*"
      ],
      "metadata": {
        "id": "Ur274ftcXUq7"
      }
    },
    {
      "cell_type": "code",
      "source": [
        "footer = soup.find(\"div\",class_=\"footer-static\")\n",
        "footer_links = footer.find_all(\"div\",class_=\"col-xs-12 col-sm-3 col-md-3\")\n",
        "\n",
        "for footer_link in footer_links:\n",
        "  title = footer_link.find(\"h2\",class_=\"title\").get_text()\n",
        "  links = footer_link.find(\"ul\").find_all(\"li\")\n",
        "  print(title)\n",
        "  print(\"-----------\")\n",
        "  for link in links:\n",
        "    link = link.find(\"a\")\n",
        "    link_text = link.text\n",
        "    link_url = link.get(\"href\") # or : link_url = link[\"href\"]\n",
        "    print(\"text link : \",link_text,\" ==) url link : \",link_url)\n",
        "  print(\"-----------------------------------------------------------\")\n"
      ],
      "metadata": {
        "colab": {
          "base_uri": "https://localhost:8080/"
        },
        "id": "yVaVn415Xa8C",
        "outputId": "a059c87e-0cdf-4146-c7e3-4a0e22e6502e"
      },
      "execution_count": 155,
      "outputs": [
        {
          "output_type": "stream",
          "name": "stdout",
          "text": [
            "Information\n",
            "-----------\n",
            "text link :  Gift Cards  ==) url link :  /giftcards\n",
            "text link :  Events  ==) url link :  /events\n",
            "text link :  Stores  ==) url link :  /store-locator\n",
            "text link :  Service Center  ==) url link :  /service-center\n",
            "text link :  Service & Training  ==) url link :  /service\n",
            "text link :  Newsroom  ==) url link :  /newsroom\n",
            "text link :  Aptronix Learning  ==) url link :  /service\n",
            "text link :  About Us  ==) url link :  /about-us\n",
            "-----------------------------------------------------------\n",
            "Shop\n",
            "-----------\n",
            "text link :  iPhone  ==) url link :  https://www.aptronixindia.com/iphone\n",
            "text link :  Mac  ==) url link :  https://www.aptronixindia.com/mac\n",
            "text link :  Customise Your Mac  ==) url link :  https://www.aptronixindia.com/customised-mac\n",
            "text link :  iPad  ==) url link :  https://www.aptronixindia.com/ipad\n",
            "text link :  Watch  ==) url link :  https://www.aptronixindia.com/watch\n",
            "text link :  TV  ==) url link :  https://www.aptronixindia.com/tv\n",
            "text link :  Accessories  ==) url link :  https://www.aptronixindia.com/accessories\n",
            "-----------------------------------------------------------\n",
            "Policies\n",
            "-----------\n",
            "text link :  Privacy Policy  ==) url link :  https://www.aptronixindia.com/disclaimer-policy\n",
            "text link :  Terms & Conditions  ==) url link :  https://www.aptronixindia.com/terms-conditions\n",
            "text link :  Cancellation Returns and Refund  ==) url link :  https://www.aptronixindia.com/cancellation-returns-and-refund\n",
            "text link :  Shipping and Delivery Policy  ==) url link :  https://www.aptronixindia.com/shipping-and-delivery-policy\n",
            "text link :  Prebooking Terms and Conditions  ==) url link :  https://www.aptronixindia.com/prebooking-terms-and-conditions\n",
            "text link :  Loyalty Terms and Conditions  ==) url link :  https://www.aptronixindia.com/loyalty-terms-and-condition\n",
            "text link :  Referral Terms and Conditions  ==) url link :  https://www.aptronixindia.com/referral-terms-and-conditions\n",
            "-----------------------------------------------------------\n",
            "Contact Us\n",
            "-----------\n",
            "text link :  +91 8340088888 (MON - SUN (10:00AM to 8:00PM))  ==) url link :  tel:+918340088888\n",
            "text link :  [email protected]  ==) url link :  /cdn-cgi/l/email-protection#53303c3d27323027262013322327213c3d3a2b3a3d373a327d303c3e\n",
            "-----------------------------------------------------------\n"
          ]
        }
      ]
    }
  ]
}